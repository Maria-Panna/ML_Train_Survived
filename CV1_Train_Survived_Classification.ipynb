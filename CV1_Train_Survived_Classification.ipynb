{
  "cells": [
    {
      "cell_type": "code",
      "execution_count": 1,
      "metadata": {
        "id": "ekpJI2VC3qxO"
      },
      "outputs": [],
      "source": [
        "import pandas as pd\n",
        "import numpy as np\n",
        "from sklearn.model_selection import KFold, StratifiedKFold, cross_val_score\n",
        "from sklearn import linear_model"
      ]
    },
    {
      "cell_type": "markdown",
      "metadata": {
        "id": "sEVuDGtNzsnc"
      },
      "source": [
        "1. Read titanic csv using read_csv function. Write data to train_data variable"
      ]
    },
    {
      "cell_type": "code",
      "execution_count": 2,
      "metadata": {
        "id": "QwBId0CSqj2k"
      },
      "outputs": [],
      "source": [
        "train_data = pd.read_csv(\"/content/cv1.csv\")\n"
      ]
    },
    {
      "cell_type": "markdown",
      "metadata": {
        "id": "r_KgDnE2zk8M"
      },
      "source": [
        "2. Remove rows with missing values in train_data dataframe in column Survived. Use dropna function and specify axis, subset and inplace option (True)."
      ]
    },
    {
      "cell_type": "code",
      "execution_count": 3,
      "metadata": {
        "id": "uSwppkWzrCB6"
      },
      "outputs": [],
      "source": [
        "train_data.dropna(axis=0, subset=[\"Survived\"], inplace=True)\n"
      ]
    },
    {
      "cell_type": "markdown",
      "metadata": {
        "id": "fB6nGcXhzb5u"
      },
      "source": [
        "3. Set to y variable column Survived"
      ]
    },
    {
      "cell_type": "code",
      "execution_count": 4,
      "metadata": {
        "id": "UJknkZeFzJlL"
      },
      "outputs": [],
      "source": [
        "y = train_data['Survived']"
      ]
    },
    {
      "cell_type": "markdown",
      "metadata": {
        "id": "PtY5nO0DziO5"
      },
      "source": [
        "4. Drop target variable from training data, column 'Survived', and column 'Age' Use drop function twice. Specify axis and inplace option (True)"
      ]
    },
    {
      "cell_type": "code",
      "execution_count": 5,
      "metadata": {
        "id": "8Z1FREsH1lIE"
      },
      "outputs": [],
      "source": [
        "train_data.drop('Survived',axis = 1,inplace=True)\n",
        "train_data.drop('Age',axis = 1,inplace=True)"
      ]
    },
    {
      "cell_type": "markdown",
      "metadata": {
        "id": "ugNyFJvg1zRY"
      },
      "source": [
        "5. Get the list of column names from train_data that are of type in64 and float64. Assign the result to numeric_cols. Use for loop and if statement. To check the type use dtype. (Example: df[colname].dtype)"
      ]
    },
    {
      "cell_type": "code",
      "execution_count": 6,
      "metadata": {
        "id": "Uhe4pkmU2Wx9",
        "colab": {
          "base_uri": "https://localhost:8080/"
        },
        "outputId": "46892650-2b4b-4668-b0f3-a59e4ce6801b"
      },
      "outputs": [
        {
          "output_type": "stream",
          "name": "stdout",
          "text": [
            "['PassengerId', 'Pclass', 'SibSp', 'Parch', 'Fare']\n"
          ]
        }
      ],
      "source": [
        "numeric_cols = []\n",
        "for col in train_data:\n",
        "  if train_data[col].dtype == 'int64' or train_data[col].dtype == 'float64':\n",
        "    numeric_cols.append(col)\n",
        "print(numeric_cols)\n"
      ]
    },
    {
      "cell_type": "markdown",
      "metadata": {
        "id": "QYj72lGA2wdk"
      },
      "source": [
        "6. Copy numeric_cols from train_data dataframe and assign it to X variable"
      ]
    },
    {
      "cell_type": "code",
      "execution_count": 7,
      "metadata": {
        "id": "WkFRvcLq2mTS"
      },
      "outputs": [],
      "source": [
        "X = train_data[numeric_cols].copy()"
      ]
    },
    {
      "cell_type": "markdown",
      "metadata": {
        "id": "EX7uJYKC23sS"
      },
      "source": [
        "7. Print shapes of X and y. Concat X and y along axis=1 and show 5 first rows from result"
      ]
    },
    {
      "cell_type": "code",
      "execution_count": 8,
      "metadata": {
        "id": "n3S5W2hD3PTg",
        "colab": {
          "base_uri": "https://localhost:8080/"
        },
        "outputId": "ac98e3fa-eb69-44a6-985f-40c0115a5cd6"
      },
      "outputs": [
        {
          "output_type": "stream",
          "name": "stdout",
          "text": [
            "Shape of X: (891, 5)\n",
            "Shape of y: (891,)\n",
            "   PassengerId  Pclass  SibSp  Parch     Fare  Survived\n",
            "0            1       3      1      0   7.2500         0\n",
            "1            2       1      1      0  71.2833         1\n",
            "2            3       3      0      0   7.9250         1\n",
            "3            4       1      1      0  53.1000         1\n",
            "4            5       3      0      0   8.0500         0\n"
          ]
        }
      ],
      "source": [
        "print(\"Shape of X:\", X.shape)\n",
        "print(\"Shape of y:\", y.shape)\n",
        "train_data = pd.concat([X, y], axis=1)\n",
        "print(train_data.head(5))"
      ]
    },
    {
      "cell_type": "markdown",
      "metadata": {
        "id": "shBANTQt4qNT"
      },
      "source": [
        "8. Initialize StratifiedKFold object with n_splits equal to 5, shuffle and random_state set to 42. Read about shuffle and random_state options. Provide small description in a comment."
      ]
    },
    {
      "cell_type": "code",
      "execution_count": 11,
      "metadata": {
        "id": "mgds2csp5U-9"
      },
      "outputs": [],
      "source": [
        "skf = StratifiedKFold(n_splits=5, shuffle=True, random_state=42)"
      ]
    },
    {
      "cell_type": "markdown",
      "source": [
        "The `shuffle` option determines whether the data is shuffled before splitting.\n",
        "# When `shuffle` is set to `True`, the data will be randomly shuffled before splitting.\n",
        "The `random_state` option sets the seed for the random number generator used to shuffle\n",
        "# the data. Setting a fixed seed ensures that the shuffling will be reproducible across\n",
        "# different runs of the code."
      ],
      "metadata": {
        "id": "dLIQiXky3sve"
      }
    },
    {
      "cell_type": "markdown",
      "metadata": {
        "id": "NwSrnsbX5W9h"
      },
      "source": [
        "9.Use split()  method generate indices to split data into training and test set. Iterate over results and print lenghts of train and test sets in each fold."
      ]
    },
    {
      "cell_type": "code",
      "execution_count": 17,
      "metadata": {
        "id": "QOkXARWV56oj",
        "colab": {
          "base_uri": "https://localhost:8080/"
        },
        "outputId": "d600f509-de3d-437d-a5f7-088d1d8226f7"
      },
      "outputs": [
        {
          "output_type": "stream",
          "name": "stdout",
          "text": [
            "Fold 1 train set length: 712 test set length: 179\n",
            "Fold 2 train set length: 713 test set length: 178\n",
            "Fold 3 train set length: 713 test set length: 178\n",
            "Fold 4 train set length: 713 test set length: 178\n",
            "Fold 5 train set length: 713 test set length: 178\n"
          ]
        }
      ],
      "source": [
        "for fold, (train_idx, test_idx) in enumerate(skf.split(X, y)):\n",
        "     X_train, X_test = X.iloc[train_idx], X.iloc[test_idx]\n",
        "     y_train, y_test = y.iloc[train_idx], y.iloc[test_idx]\n",
        "     print(\"Fold\", fold+1, \"train set length:\", len(X_train), \"test set length:\", len(X_test))"
      ]
    },
    {
      "cell_type": "markdown",
      "metadata": {
        "id": "JM9U3iyN58cX"
      },
      "source": [
        "10. Run cross validation on Logistic regression model using cross_val_score function. Set cv to your StratifiedKFold object, scoring to \"accuracy\".\n",
        "Assign result of cross_val_score to 'score' variable and print the result (list of accuracies for each fold)"
      ]
    },
    {
      "cell_type": "code",
      "execution_count": 21,
      "metadata": {
        "id": "cm90QSC4ZA31",
        "colab": {
          "base_uri": "https://localhost:8080/"
        },
        "outputId": "aa9efdba-8567-48f8-d1e1-ec8abd1f8e5b"
      },
      "outputs": [
        {
          "output_type": "stream",
          "name": "stdout",
          "text": [
            "[0.66433566 0.72027972 0.60839161 0.69014085 0.72535211]\n"
          ]
        }
      ],
      "source": [
        "from sklearn.linear_model import LogisticRegression\n",
        "lr_model = LogisticRegression()\n",
        "score = cross_val_score(lr_model, X_train, y_train, cv=skf, scoring=\"accuracy\")\n",
        "print(score)"
      ]
    },
    {
      "cell_type": "markdown",
      "metadata": {
        "id": "bBaGNoRL7SfT"
      },
      "source": [
        "11. Iterate over given algorithms and run cross_val_score in each iteration. This time add options to your LogisticRegression model : max_iter= 4000, solver= algo.\n",
        "In each iteration print mean of the score.\n",
        "\n",
        "Choose the best algorithm basing on the mean and provide its name in a comment."
      ]
    },
    {
      "cell_type": "code",
      "execution_count": 22,
      "metadata": {
        "id": "ckV3LiCZZGbK"
      },
      "outputs": [],
      "source": [
        "algorithms = ['newton-cg', 'lbfgs', 'liblinear', 'sag', 'saga']"
      ]
    },
    {
      "cell_type": "code",
      "execution_count": 38,
      "metadata": {
        "id": "_xU8aRAu9sHi",
        "colab": {
          "base_uri": "https://localhost:8080/"
        },
        "outputId": "69d5e5b3-e06b-4efe-96b4-637560485d1a"
      },
      "outputs": [
        {
          "output_type": "stream",
          "name": "stdout",
          "text": [
            "Mean score for newton-cg  algorithm:  0.6817\n",
            "Mean score for lbfgs  algorithm:  0.6817\n",
            "Mean score for liblinear  algorithm:  0.6803\n",
            "Mean score for sag  algorithm:  0.6887\n",
            "Mean score for saga  algorithm:  0.6873\n",
            "\n",
            "The best algorithm is sag  with mean accuracy of:  0.6887\n"
          ]
        }
      ],
      "source": [
        "scores ={}\n",
        "\n",
        "for algo in algorithms:\n",
        "    lr_model = LogisticRegression(max_iter=4000, solver=algo)\n",
        "    score = cross_val_score(lr_model, X_train, y_train, cv=skf, scoring='accuracy')\n",
        "    scores[algo] = score.mean()\n",
        "    print(\"Mean score for\",algo , \" algorithm: \" ,str(round(scores[algo], 4)))\n",
        "\n",
        "\n",
        "best_algo = max(scores, key=scores.get)\n",
        "print(\"\\nThe best algorithm is\", best_algo,\" with mean accuracy of: \",str(round(scores[best_algo], 4)))\n"
      ]
    }
  ],
  "metadata": {
    "colab": {
      "provenance": []
    },
    "kernelspec": {
      "display_name": "Python 3",
      "name": "python3"
    },
    "language_info": {
      "name": "python"
    }
  },
  "nbformat": 4,
  "nbformat_minor": 0
}